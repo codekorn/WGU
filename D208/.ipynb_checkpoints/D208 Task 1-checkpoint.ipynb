{
 "cells": [
  {
   "cell_type": "markdown",
   "id": "bb5ee4b4",
   "metadata": {},
   "source": [
    "# D208 Task 1 - Linear Regression\n",
    "\n",
    "## Menachem Korn"
   ]
  },
  {
   "cell_type": "markdown",
   "id": "d77758ee",
   "metadata": {},
   "source": [
    "### Table of Contents:\n",
    "#### A \n",
    "[A1. Research Question](#a1)<br>\n",
    "[A2. Objectives](#a2)\n",
    "#### B\n",
    "[B. Variables  in the Dataset](#b)\n",
    "#### C\n",
    "[C1. Detecting Data Quality Issues – Discussion](#c1)<br>\n",
    "[C2. Detecting Data Quality Issues – Justification](#c2)<br>\n",
    "[C3. Justification of Programming Language](#c3)<br>\n",
    "[C4. Detection Code – *See code below*](#c4)<br>\n",
    "#### D\n",
    "[D1. Detection](#d1)<br>\n",
    "[D2. Cleaning the Data](#d2)<br>\n",
    "[D3. Summarization of Work](#d3)<br>\n",
    "[D4. Clean Code](#d4)<br>\n",
    "[D5. Attached CSV](#d5)<br>\n",
    "[D6. Disadvantages](#d6)<br>\n",
    "[D7. Challenges](#d7)<br>\n",
    "#### E\n",
    "[E1. PCA](#e1)<br>\n",
    "[E2. Principal Components](#e2)<br>\n",
    "[E3. Benefits of PCA](#e3)<br>\n",
    "#### F\n",
    "[F. Panopto](#f)\n",
    "#### G \n",
    "[G. Code Reference](#g)\n",
    "#### A \n",
    "[H. References](#h)"
   ]
  },
  {
   "cell_type": "markdown",
   "id": "bbf1193b",
   "metadata": {},
   "source": [
    "<a id=\"a1\"></a>\n",
    "#### A1.  Research Question\n",
    "Can we fit a linear regression model to predict the outage seconds per week a customer will experience?"
   ]
  },
  {
   "cell_type": "markdown",
   "id": "a0a2c1e4",
   "metadata": {},
   "source": [
    "<a id=\"a2\"></a>\n",
    "#### A2.  Objectives\n",
    "We will conduct our analysis under the presumption that customers with higher outages will be more likely to churn. By completing our analysis, we can better determine which variables effect outage seconds per week and thus mitigate the issues, resulting in an overall more positive experience for existing customers."
   ]
  },
  {
   "cell_type": "code",
   "execution_count": null,
   "id": "c83e567d",
   "metadata": {},
   "outputs": [],
   "source": []
  }
 ],
 "metadata": {
  "kernelspec": {
   "display_name": "Python 3 (ipykernel)",
   "language": "python",
   "name": "python3"
  },
  "language_info": {
   "codemirror_mode": {
    "name": "ipython",
    "version": 3
   },
   "file_extension": ".py",
   "mimetype": "text/x-python",
   "name": "python",
   "nbconvert_exporter": "python",
   "pygments_lexer": "ipython3",
   "version": "3.9.12"
  }
 },
 "nbformat": 4,
 "nbformat_minor": 5
}
