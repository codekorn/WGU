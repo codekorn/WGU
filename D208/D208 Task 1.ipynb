{
 "cells": [
  {
   "cell_type": "markdown",
   "id": "bb5ee4b4",
   "metadata": {},
   "source": [
    "# D208 Task 1 - Linear Regression\n",
    "\n",
    "## Menachem Korn"
   ]
  },
  {
   "cell_type": "markdown",
   "id": "d77758ee",
   "metadata": {},
   "source": [
    "### Table of Contents:\n",
    "#### A \n",
    "[A1. Research Question](#a1)<br>\n",
    "[A2. Objectives](#a2)\n",
    "#### B\n",
    "[B1. Assumptions](#b1)<br>\n",
    "[B2. Programming Language and Benefits ](#b2)<br>\n",
    "[B3. Regression Justification](#b3)\n",
    "#### C\n",
    "[C1. Detecting Data Quality Issues – Discussion](#c1)<br>\n",
    "[C2. Detecting Data Quality Issues – Justification](#c2)<br>\n",
    "[C3. Justification of Programming Language](#c3)<br>\n",
    "[C4. Detection Code – *See code below*](#c4)<br>\n",
    "#### D\n",
    "[D1. Detection](#d1)<br>\n",
    "[D2. Cleaning the Data](#d2)<br>\n",
    "[D3. Summarization of Work](#d3)<br>\n",
    "[D4. Clean Code](#d4)<br>\n",
    "[D5. Attached CSV](#d5)<br>\n",
    "[D6. Disadvantages](#d6)<br>\n",
    "[D7. Challenges](#d7)<br>\n",
    "#### E\n",
    "[E1. PCA](#e1)<br>\n",
    "[E2. Principal Components](#e2)<br>\n",
    "[E3. Benefits of PCA](#e3)<br>\n",
    "#### F\n",
    "[F. Panopto](#f)\n",
    "#### G \n",
    "[G. Code Reference](#g)\n",
    "#### A \n",
    "[H. References](#h)"
   ]
  },
  {
   "cell_type": "markdown",
   "id": "bbf1193b",
   "metadata": {},
   "source": [
    "<a id=\"a1\"></a>\n",
    "#### A1.  Research Question\n",
    "Can we fit a linear regression model to predict the outage seconds per week a customer will experience?"
   ]
  },
  {
   "cell_type": "markdown",
   "id": "a0a2c1e4",
   "metadata": {},
   "source": [
    "<a id=\"a2\"></a>\n",
    "#### A2.  Objectives\n",
    "We will conduct our analysis under the presumption that customers with higher outages will be more likely to churn. By completing our analysis, we can better determine which variables effect outage seconds per week and thus mitigate the issues, resulting in an overall more positive experience for existing customers."
   ]
  },
  {
   "cell_type": "markdown",
   "id": "4daff4d7",
   "metadata": {},
   "source": [
    "<a id=\"b1\"></a>\n",
    "#### B1. Four Assumptions\n",
    "Four assumptions of linear regression are:\n",
    "1. There exits a linear relationship between the variable we are trying to fit - the dependent variable, and the independent variables.\n",
    "2. There is no high correlation between the independent variables.\n",
    "3. All samples and observations are randomly selected from the general population.\n",
    "4. When the amount of independent variables are increased, we should see a increase in explanotory power as well.\n"
   ]
  },
  {
   "cell_type": "markdown",
   "id": "7c1f6c56",
   "metadata": {},
   "source": [
    "<a id=\"b2\"></a>\n",
    "#### B2. Programming Language and Benefits \n",
    "Python is a multi-purpose programming language, that is popular among data scientists. Python has simple and consistent syntax which makes coding easy, and is great for a multitude of tasks from web developing and hacking to machine learning. Python also has popular libraries that are used for data science and machine learning which include: Pandas, Statmodels, NumPy, SciPy, sklearn and Tensorflow among others.\n",
    "\n",
    "The libraries used for this task are:\n",
    "Pandas built for manipulating data which is gonna be utilized to clean the data.\n",
    "Matplotlib and seaborn to make a aesthetically appealing visualizations.\n",
    "Statmodels for linear regression.<br>\n",
    "<i>source - https://www.wgu.edu/online-it-degrees/programming-languages/r-or-python.html</i>"
   ]
  },
  {
   "cell_type": "markdown",
   "id": "c73ed638",
   "metadata": {},
   "source": [
    "<a id=\"b3\"></a>\n",
    "#### B3. Regression Justification\n",
    "Python is a multi-purpose programming language, that is popular among data scientists. Python has simple and consistent syntax which makes coding easy, and is great for a multitude of tasks from web developing and hacking to machine learning. Python also has popular libraries that are used for data science and machine learning which include: Pandas, Statmodels, NumPy, SciPy, sklearn and Tensorflow among others.\n",
    "\n",
    "The libraries used for this task are:\n",
    "Pandas built for manipulating data which is gonna be utilized to clean the data.\n",
    "Matplotlib and seaborn to make a aesthetically appealing visualizations.\n",
    "Statmodels for linear regression.\n",
    "<i>source - https://www.wgu.edu/online-it-degrees/programming-languages/r-or-python.html</i>"
   ]
  },
  {
   "cell_type": "code",
   "execution_count": null,
   "id": "c83e567d",
   "metadata": {},
   "outputs": [],
   "source": []
  }
 ],
 "metadata": {
  "kernelspec": {
   "display_name": "Python 3 (ipykernel)",
   "language": "python",
   "name": "python3"
  },
  "language_info": {
   "codemirror_mode": {
    "name": "ipython",
    "version": 3
   },
   "file_extension": ".py",
   "mimetype": "text/x-python",
   "name": "python",
   "nbconvert_exporter": "python",
   "pygments_lexer": "ipython3",
   "version": "3.9.12"
  }
 },
 "nbformat": 4,
 "nbformat_minor": 5
}
