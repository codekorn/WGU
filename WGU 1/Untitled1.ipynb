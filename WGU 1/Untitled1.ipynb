{
 "cells": [
  {
   "cell_type": "code",
   "execution_count": 29,
   "id": "5f45bf1e",
   "metadata": {},
   "outputs": [],
   "source": [
    "import sys\n",
    "import win32com.client as win32\n",
    "from docx import Document\n",
    "from bs4 import BeautifulSoup\n",
    "import re\n",
    "\n",
    "emails = {'jg': 'jacobgo@bhphoto.com',\n",
    "'bz': 'boruchz@bhphoto.com',\n",
    "'sl': 'shalomla@bhphoto.com',\n",
    "'af': 'abrahmf@bhphoto.com',\n",
    "'ss': 'sstern@bhphoto.com',\n",
    "'mo': 'mendelo@bhphoto.com',\n",
    "'mn': 'mendyn@bhphoto.com',\n",
    "'df': 'dovfeld@bhphoto.com',\n",
    "'ll': 'levil@bhphoto.com',\n",
    "'mk': 'mkorn@bhphoto.com',\n",
    "'sg': 'solgr@bhphoto.com',\n",
    "'sk': 'simchak@bhphoto.com',\n",
    "'sr': 'srimler@bhphoto.com',\n",
    "'mmk': 'menkorn770@gmail.com',\n",
    "'lw': 'leahwa@bhphoto.com'}\n",
    "\n",
    "\n",
    "    "
   ]
  },
  {
   "cell_type": "code",
   "execution_count": 27,
   "id": "753e92d2",
   "metadata": {},
   "outputs": [],
   "source": [
    "\n",
    "def create_message():\n",
    "    folder = 'C:/Users/mkorn/OneDrive - bhphoto.onmicrosoft.com/Word/MSTR Migrations/'\n",
    "    i = 1\n",
    "    data = []\n",
    "    subject = []\n",
    "    while i==1:\n",
    "        name = f'BIDW-66510'\n",
    "        subject.append(name)\n",
    "        document = Document(folder + name + '.docx')\n",
    "        for p in document.paragraphs:\n",
    "            broken = p.text.replace('\\n', '<br>').split('<br>') \n",
    "            for b in broken:\n",
    "                data.append(b)\n",
    "        i += 1\n",
    "    data.sort()\n",
    "    d_header = []\n",
    "    for i, v in enumerate(date):\n",
    "        if not i or v.r:\n",
    "            d_header.append()\n",
    "    data = '<br>'.join(data)\n",
    "    subject = ', '.join(subject)\n",
    "    message = 'Please migrate the following to QA: <br>' + data\n",
    "    return message, subject , i\n",
    "        \n",
    "        \n",
    "if __name__ == '__main__':\n",
    "    message,subject,email_index = create_message()\n"
   ]
  },
  {
   "cell_type": "code",
   "execution_count": 28,
   "id": "1c850b7a",
   "metadata": {},
   "outputs": [
    {
     "data": {
      "text/plain": [
       "'Please migrate the following to QA: <br><br>\\\\Bld - Sales\\\\Public Objects\\\\Filters\\\\Buyer KPI\\\\Bko Sales Filter <br>\\\\Bld - Sales\\\\Public Objects\\\\Filters\\\\Inventory Live\\\\Allow BKO <br>\\\\Bld - Sales\\\\Public Objects\\\\Filters\\\\Inventory Live\\\\Allow BKO - New Item <br>\\\\Bld - Sales\\\\Public Objects\\\\Filters\\\\Inventory Live\\\\Allow BKO - Temp <br>\\\\Bld - Sales\\\\Public Objects\\\\Filters\\\\Inventory Live\\\\BKO All <br>\\\\Bld - Sales\\\\Public Objects\\\\Filters\\\\Only Sales <br>\\\\Bld - Sales\\\\Public Objects\\\\Metrics\\\\Buyer KPI Dashboard metrics\\\\BKO Order Amount <br>\\\\Bld - Sales\\\\Public Objects\\\\Metrics\\\\Buyer KPI Dashboard metrics\\\\BKO Order Amount Last 30 Days <br>\\\\Bld - Sales\\\\Public Objects\\\\Metrics\\\\Inventory Live\\\\BKO All QTY <br>\\\\Bld - Sales\\\\Public Objects\\\\Metrics\\\\Inventory Live\\\\BKO QTY <br>\\\\Bld - Sales\\\\Public Objects\\\\Metrics\\\\Inventory Live\\\\Cost of Items In Excess <br>\\\\Bld - Sales\\\\Public Objects\\\\Metrics\\\\Inventory Live\\\\Count Low and Out Items <br>\\\\Bld - Sales\\\\Public Objects\\\\Metrics\\\\Inventory Live\\\\Count Low and Out Items - Non Gradus <br>\\\\Bld - Sales\\\\Public Objects\\\\Metrics\\\\Inventory Live\\\\Count Stockout Items <br>\\\\Bld - Sales\\\\Public Objects\\\\Metrics\\\\Inventory Live\\\\Count of BKO All Items <br>\\\\Bld - Sales\\\\Public Objects\\\\Metrics\\\\Inventory Live\\\\Count of BKO Items <br>\\\\Bld - Sales\\\\Public Objects\\\\Metrics\\\\Inventory Live\\\\Count of BKO Items - New Item <br>\\\\Bld - Sales\\\\Public Objects\\\\Metrics\\\\Inventory Live\\\\Count of BKO Items - Temp <br>\\\\Bld - Sales\\\\Public Objects\\\\Metrics\\\\Inventory Live\\\\Count of Low Out of Stock and Has No BKO QTY <br>\\\\Bld - Sales\\\\Public Objects\\\\Metrics\\\\Inventory Live\\\\Count of Low Out of Stock and has BKO QTY <br>\\\\Bld - Sales\\\\Public Objects\\\\Metrics\\\\Inventory Live\\\\Count of Low and Has Stock <br>\\\\Bld - Sales\\\\Public Objects\\\\Metrics\\\\Inventory Live\\\\New Items Out of stock <br>\\\\Bld - Sales\\\\Public Objects\\\\Metrics\\\\Inventory\\\\Stockable Item Count <br>\\\\Bld - Sales\\\\Public Objects\\\\Metrics\\\\Sales\\\\Order Amount <br>\\\\Bld - Sales\\\\Public Objects\\\\Metrics\\\\Sales\\\\Order Amount 30 Days <br>\\\\Bld - Sales\\\\Public Objects\\\\Reports\\\\Datasets\\\\Buying\\\\Cubes for Buyer KPI Dashboard\\\\BKO Sales KPI <br>\\\\Bld - Sales\\\\Public Objects\\\\Reports\\\\Datasets\\\\Buying\\\\Cubes for Buyer KPI Dashboard\\\\Buyer KPI Inventory Cube <br>\\\\Bld - Sales\\\\Schema Objects\\\\Attributes\\\\Inventory Live\\\\Item Information\\\\Warehouse Code <br>\\\\Bld - Sales\\\\Schema Objects\\\\Attributes\\\\Inventory Live\\\\Key Dates and JE\\\\Bko Actn Flag <br>\\\\Bld - Sales\\\\Schema Objects\\\\Attributes\\\\Inventory\\\\Pre Order Indicator <br>\\\\Bld - Sales\\\\Schema Objects\\\\Attributes\\\\Inventory\\\\Stock Flags\\\\Stockable Indicator <br>\\\\Bld - Sales\\\\Schema Objects\\\\Attributes\\\\Sales Comment\\\\Allow BKO Flag <br>\\\\Bld - Sales\\\\Schema Objects\\\\Attributes\\\\Sales Comment\\\\New Item Allow BKO Flag <br>\\\\Bld - Sales\\\\Schema Objects\\\\Attributes\\\\Sales Comment\\\\New Item Flag <br>\\\\Bld - Sales\\\\Schema Objects\\\\Attributes\\\\Sales Comment\\\\Temp Allow BKO Flag <br>\\\\Bld - Sales\\\\Schema Objects\\\\Attributes\\\\Sales Comment\\\\Temp BKO Flag <br>\\\\Bld - Sales\\\\Schema Objects\\\\Facts\\\\Inventory Live\\\\Avg Cost Calc <br>\\\\Bld - Sales\\\\Schema Objects\\\\Facts\\\\Inventory Live\\\\Excess Qty <br>\\\\Bld - Sales\\\\Schema Objects\\\\Facts\\\\Inventory Live\\\\Items (Live) <br>\\\\Bld - Sales\\\\Schema Objects\\\\Facts\\\\Sales\\\\Order Amount <br>\\\\Bld - Sales\\\\Schema Objects\\\\Tables\\\\INVENTORY_LIVE '"
      ]
     },
     "execution_count": 28,
     "metadata": {},
     "output_type": "execute_result"
    }
   ],
   "source": [
    "message"
   ]
  },
  {
   "cell_type": "code",
   "execution_count": 39,
   "id": "8ca86ae7",
   "metadata": {},
   "outputs": [
    {
     "ename": "TypeError",
     "evalue": "expand() missing required argument 'template' (pos 1)",
     "output_type": "error",
     "traceback": [
      "\u001b[1;31m---------------------------------------------------------------------------\u001b[0m",
      "\u001b[1;31mTypeError\u001b[0m                                 Traceback (most recent call last)",
      "Cell \u001b[1;32mIn[39], line 1\u001b[0m\n\u001b[1;32m----> 1\u001b[0m \u001b[43mre\u001b[49m\u001b[38;5;241;43m.\u001b[39;49m\u001b[43msearch\u001b[49m\u001b[43m(\u001b[49m\u001b[38;5;124;43m\"\u001b[39;49m\u001b[38;5;124;43m(s)\u001b[39;49m\u001b[38;5;124;43m\"\u001b[39;49m\u001b[43m,\u001b[49m\u001b[43m \u001b[49m\u001b[38;5;124;43m\"\u001b[39;49m\u001b[38;5;124;43msdf\u001b[39;49m\u001b[38;5;124;43m\"\u001b[39;49m\u001b[43m)\u001b[49m\u001b[38;5;241;43m.\u001b[39;49m\u001b[43mexpand\u001b[49m\u001b[43m(\u001b[49m\u001b[43m)\u001b[49m\n",
      "\u001b[1;31mTypeError\u001b[0m: expand() missing required argument 'template' (pos 1)"
     ]
    }
   ],
   "source": [
    "re.search(\"(s)\", \"sdf\").expand()"
   ]
  },
  {
   "cell_type": "code",
   "execution_count": null,
   "id": "146ac6f3",
   "metadata": {},
   "outputs": [],
   "source": []
  },
  {
   "cell_type": "code",
   "execution_count": null,
   "id": "efc17085",
   "metadata": {},
   "outputs": [],
   "source": []
  }
 ],
 "metadata": {
  "kernelspec": {
   "display_name": "Python 3 (ipykernel)",
   "language": "python",
   "name": "python3"
  },
  "language_info": {
   "codemirror_mode": {
    "name": "ipython",
    "version": 3
   },
   "file_extension": ".py",
   "mimetype": "text/x-python",
   "name": "python",
   "nbconvert_exporter": "python",
   "pygments_lexer": "ipython3",
   "version": "3.11.2"
  }
 },
 "nbformat": 4,
 "nbformat_minor": 5
}
